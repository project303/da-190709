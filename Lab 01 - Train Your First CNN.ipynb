{
 "cells": [
  {
   "cell_type": "markdown",
   "metadata": {},
   "source": [
    "# Lab 01 - Train Your First CNN"
   ]
  },
  {
   "cell_type": "code",
   "execution_count": null,
   "metadata": {},
   "outputs": [],
   "source": [
    "#Release: 1.1907.1601"
   ]
  },
  {
   "cell_type": "markdown",
   "metadata": {},
   "source": [
    "### Import Module"
   ]
  },
  {
   "cell_type": "code",
   "execution_count": null,
   "metadata": {},
   "outputs": [],
   "source": [
    "import tensorflow as tf\n",
    "import keras\n",
    "import numpy as np\n",
    "\n",
    "print(\"TensorFlow version: \" + tf.__version__)"
   ]
  },
  {
   "cell_type": "code",
   "execution_count": null,
   "metadata": {},
   "outputs": [],
   "source": [
    "from keras.datasets import cifar10\n",
    "from keras.preprocessing.image import ImageDataGenerator\n",
    "from keras.models import Sequential\n",
    "from keras.layers import Dense, Dropout, Activation, Flatten\n",
    "from keras.layers import Conv2D, MaxPooling2D\n",
    "from PIL import Image\n",
    "from matplotlib import pyplot\n",
    "from scipy.misc import toimage\n",
    "\n",
    "%matplotlib inline"
   ]
  },
  {
   "cell_type": "markdown",
   "metadata": {},
   "source": [
    "###  - Function to Show Image -"
   ]
  },
  {
   "cell_type": "code",
   "execution_count": null,
   "metadata": {},
   "outputs": [],
   "source": [
    "#helper function\n",
    "def show_image(img, label=\"\", zoom=False):\n",
    "    #labelname[y_train[0,0].astype(int)]\n",
    "    if not zoom:\n",
    "        #pyplot.figure(figsize=(4,3))\n",
    "        pyplot.subplot(330 + 1 + i)\n",
    "    else:\n",
    "        pyplot.figure(figsize=(6,3))\n",
    "        pyplot.subplot(1,2,1)\n",
    "        pyplot.grid(False)\n",
    "    pyplot.xticks([])\n",
    "    pyplot.yticks([])\n",
    "    #pyplot.imshow(img, cmap=pyplot.cm.binary)\n",
    "    pyplot.xlabel('{code} - {label}'.format(code=label, label=labelname[label]))\n",
    "    pyplot.imshow(img, cmap=pyplot.cm.binary)"
   ]
  },
  {
   "cell_type": "markdown",
   "metadata": {},
   "source": [
    "### - Function to plot model accuracy and loss -"
   ]
  },
  {
   "cell_type": "code",
   "execution_count": null,
   "metadata": {},
   "outputs": [],
   "source": [
    "def plot_model_history(model_history):\n",
    "    # summarize history for accuracy\n",
    "    pyplot.plot(history.history['acc'])\n",
    "    pyplot.plot(history.history['val_acc'])\n",
    "    pyplot.title('model accuracy')\n",
    "    pyplot.ylabel('accuracy')\n",
    "    pyplot.xlabel('epoch')\n",
    "    pyplot.legend(['train', 'test'], loc='upper left')\n",
    "    pyplot.show()\n",
    "    \n",
    "    # summarize history for loss\n",
    "    pyplot.plot(history.history['loss'])\n",
    "    pyplot.plot(history.history['val_loss'])\n",
    "    pyplot.title('model loss')\n",
    "    pyplot.ylabel('loss')\n",
    "    pyplot.xlabel('epoch')\n",
    "    pyplot.legend(['train', 'test'], loc='upper left')\n",
    "    pyplot.show()\n",
    "    "
   ]
  },
  {
   "cell_type": "markdown",
   "metadata": {},
   "source": [
    "### - Function Show Image Prediction -"
   ]
  },
  {
   "cell_type": "code",
   "execution_count": null,
   "metadata": {},
   "outputs": [],
   "source": [
    "#helper function\n",
    "def show_image_prediction(i, predictions_array, true_label, img):\n",
    "  predictions_array, true_label, img = predictions_array[i], true_label[i], img[i]\n",
    "  pyplot.grid(False)\n",
    "  pyplot.xticks([])\n",
    "  pyplot.yticks([])\n",
    "  \n",
    "  pyplot.imshow(img, cmap=pyplot.cm.binary)\n",
    "  \n",
    "  predicted_label = np.argmax(predictions_array)\n",
    "    \n",
    "  if predicted_label == true_label:\n",
    "    color = 'blue'\n",
    "   \n",
    "  else:\n",
    "    color = 'red'\n",
    "  \n",
    "  pyplot.xlabel(\"{} {:2.0f}% ({})\".format(labelname[predicted_label],\n",
    "                                100*np.max(predictions_array),\n",
    "                                labelname[true_label[0]]),\n",
    "                                color=color)\n",
    "\n",
    "def show_value_prediction(i, predictions_array, true_label):\n",
    "  predictions_array, true_label = predictions_array[i], true_label[i]\n",
    "  pyplot.grid(False)\n",
    "  pyplot.xticks([])\n",
    "  pyplot.yticks([])\n",
    "  thisplot = pyplot.bar(range(10), predictions_array, color=\"#777777\")\n",
    "  pyplot.ylim([0, 1]) \n",
    "  predicted_label = np.argmax(predictions_array)\n",
    "  #true_label = np.argmax(true_label)\n",
    " \n",
    "  thisplot[predicted_label].set_color('red')\n",
    "  thisplot[true_label[0]].set_color('blue')"
   ]
  },
  {
   "cell_type": "markdown",
   "metadata": {},
   "source": [
    "#### Step 01 - Load Cifar10 Data"
   ]
  },
  {
   "cell_type": "code",
   "execution_count": null,
   "metadata": {},
   "outputs": [],
   "source": [
    "num_classes = 10\n",
    "labelname = [\"airplane\",\"automobile\",\"bird\",\"cat\",\"deer\",\"dog\",\"frog\",\"horse\",\"ship\",\"truck\"]\n",
    "\n",
    "# load data\n",
    "(X_train, Y_train), (X_test, Y_test) = cifar10.load_data()"
   ]
  },
  {
   "cell_type": "markdown",
   "metadata": {},
   "source": [
    "#### Step 02 - Data Exploration"
   ]
  },
  {
   "cell_type": "code",
   "execution_count": null,
   "metadata": {},
   "outputs": [],
   "source": [
    "# view data shape\n",
    "print('X_train shape: ', X_train.shape)\n",
    "print('Number of image: ', X_train.shape[0])\n",
    "\n",
    "print('Y_train shape:', Y_train.shape)"
   ]
  },
  {
   "cell_type": "code",
   "execution_count": null,
   "metadata": {},
   "outputs": [],
   "source": [
    "# view sample data\n",
    "for i in range(0, 9):\n",
    "    show_image(Image.fromarray(X_train[i]), Y_train[i,0])"
   ]
  },
  {
   "cell_type": "code",
   "execution_count": null,
   "metadata": {},
   "outputs": [],
   "source": [
    "X_train[0]"
   ]
  },
  {
   "cell_type": "code",
   "execution_count": null,
   "metadata": {},
   "outputs": [],
   "source": [
    "X_train[0][0]"
   ]
  },
  {
   "cell_type": "code",
   "execution_count": null,
   "metadata": {},
   "outputs": [],
   "source": [
    "Y_train[0]"
   ]
  },
  {
   "cell_type": "code",
   "execution_count": null,
   "metadata": {},
   "outputs": [],
   "source": [
    "# data distribution\n",
    "u,indices = np.unique(Y_train,return_counts = True) \n",
    "print(u) \n",
    "print(indices)\n",
    "#u\n",
    "\n",
    "# Make a histogram with 62 bins of the `labels` data\n",
    "pyplot.hist(Y_train, 10)\n",
    "\n",
    "# Show the plot\n",
    "pyplot.show()"
   ]
  },
  {
   "cell_type": "markdown",
   "metadata": {},
   "source": [
    "#### Step 03 - Training Data Preparation"
   ]
  },
  {
   "cell_type": "code",
   "execution_count": null,
   "metadata": {},
   "outputs": [],
   "source": [
    "# The data, split between train and test sets:\n",
    "(img_train, label_train), (img_test, label_test) = cifar10.load_data()\n",
    "print('img_train shape:', img_train.shape)\n",
    "print('label_train shape:', label_train.shape)\n",
    "print('Training data: {num} samples'.format(num = img_train.shape[0]))\n",
    "print('Test data: {num} samples'.format(num = img_test.shape[0]))"
   ]
  },
  {
   "cell_type": "code",
   "execution_count": null,
   "metadata": {},
   "outputs": [],
   "source": [
    "#integer to float\n",
    "img_train_f = img_train.astype('float32')\n",
    "img_test_f = img_test.astype('float32')\n",
    "img_train_f /= 255\n",
    "img_test_f /= 255\n",
    "print('x_train shape:', img_train_f.shape)\n",
    "print(img_train_f.shape[0], 'train samples')\n",
    "print(img_test_f.shape[0], 'test samples')"
   ]
  },
  {
   "cell_type": "code",
   "execution_count": null,
   "metadata": {},
   "outputs": [],
   "source": [
    "# Convert label vectors to one hot encoding.\n",
    "label_train_one_hot = keras.utils.to_categorical(label_train, num_classes)\n",
    "label_test_one_hot = keras.utils.to_categorical(label_test, num_classes)\n",
    "print('label_train shape:', label_train_one_hot.shape)\n",
    "print('Original label:', label_train[0])\n",
    "print('After conversion to one-hot:', label_train_one_hot[0])"
   ]
  },
  {
   "cell_type": "markdown",
   "metadata": {},
   "source": [
    "#### Step 04 - Create Model"
   ]
  },
  {
   "cell_type": "code",
   "execution_count": null,
   "metadata": {},
   "outputs": [],
   "source": [
    "#Define the model\n",
    "model = Sequential()\n",
    "model.add(Conv2D(32, (3, 3), padding='same', input_shape=img_train.shape[1:]))\n",
    "model.add(Activation('relu'))\n",
    "model.add(MaxPooling2D(pool_size=(2, 2)))\n",
    "model.add(Dropout(0.25))\n",
    "\n",
    "\n",
    "model.add(Flatten())\n",
    "model.add(Dense(num_classes))\n",
    "model.add(Activation('softmax'))\n",
    "\n",
    "model.summary()"
   ]
  },
  {
   "cell_type": "markdown",
   "metadata": {},
   "source": [
    "#### Step 05 - Train Model"
   ]
  },
  {
   "cell_type": "code",
   "execution_count": null,
   "metadata": {},
   "outputs": [],
   "source": [
    "#Training Hyperparatemer\n",
    "learning_rate = 0.0001\n",
    "decay = 1e-6\n",
    "batch_size = 32\n",
    "epochs = 30"
   ]
  },
  {
   "cell_type": "code",
   "execution_count": null,
   "metadata": {},
   "outputs": [],
   "source": [
    "# initiate RMSprop optimizer\n",
    "opt = keras.optimizers.rmsprop(lr=learning_rate, decay=decay)"
   ]
  },
  {
   "cell_type": "code",
   "execution_count": null,
   "metadata": {},
   "outputs": [],
   "source": [
    "# Let's train the model using RMSprop\n",
    "model.compile(loss='categorical_crossentropy',\n",
    "              optimizer=opt,\n",
    "              metrics=['accuracy'])"
   ]
  },
  {
   "cell_type": "code",
   "execution_count": null,
   "metadata": {},
   "outputs": [],
   "source": [
    "import os\n",
    "import datetime\n",
    "import time\n",
    "\n",
    "start = time.time()\n",
    "history = model.fit(img_train_f, label_train_one_hot,\n",
    "              batch_size=batch_size,\n",
    "              epochs=epochs,\n",
    "              validation_data=(img_test_f, label_test_one_hot),\n",
    "              shuffle=True)\n",
    "\n",
    "# Save model and weights\n",
    "now = datetime.datetime.now()\n",
    "save_dir = os.path.join(os.getcwd(), 'saved_models')\n",
    "model_name = 'labs01_model_{batch}.h5'.format(batch=now.strftime(\"%Y%m%d_%H%M\"))\n",
    "\n",
    "if not os.path.isdir(save_dir):\n",
    "    os.makedirs(save_dir)\n",
    "model_path = os.path.join(save_dir, model_name)\n",
    "model.save(model_path)\n",
    "print('Saved trained model at %s ' % model_path)\n",
    "\n",
    "end = time.time()\n",
    "print(\"Model took {:2.0f} seconds to train\".format((end - start)))"
   ]
  },
  {
   "cell_type": "code",
   "execution_count": null,
   "metadata": {},
   "outputs": [],
   "source": [
    "#show graph\n",
    "plot_model_history(history)"
   ]
  },
  {
   "cell_type": "markdown",
   "metadata": {},
   "source": [
    "#### Step 06 - Evaluate Model"
   ]
  },
  {
   "cell_type": "code",
   "execution_count": null,
   "metadata": {},
   "outputs": [],
   "source": [
    "test_loss, test_acc = model.evaluate(img_test_f, label_test_one_hot)\n",
    "print('Test accuracy:', test_acc)"
   ]
  },
  {
   "cell_type": "code",
   "execution_count": null,
   "metadata": {},
   "outputs": [],
   "source": [
    "predictions = model.predict(img_test_f)"
   ]
  },
  {
   "cell_type": "code",
   "execution_count": null,
   "metadata": {},
   "outputs": [],
   "source": [
    "#labelname = [\"airplane\",\"automobile\",\"bird\",\"cat\",\"deer\",\"dog\",\"frog\",\"horse\",\"ship\",\"truck\"]\n",
    "i = 0\n",
    "pyplot.figure(figsize=(6,3))\n",
    "pyplot.subplot(1,2,1)\n",
    "show_image_prediction(i, predictions, label_test, img_test)\n",
    "pyplot.subplot(1,2,2)\n",
    "show_value_prediction(i, predictions,  label_test)\n",
    "predictions[i]"
   ]
  },
  {
   "cell_type": "code",
   "execution_count": null,
   "metadata": {},
   "outputs": [],
   "source": [
    "# Plot the first X test images, their predicted label, and the true label\n",
    "# Color correct predictions in blue, incorrect predictions in red\n",
    "num_rows = 15\n",
    "num_cols = 3\n",
    "num_images = num_rows*num_cols\n",
    "pyplot.figure(figsize=(2*2*num_cols, 2*num_rows))\n",
    "for i in range(num_images):\n",
    "  pyplot.subplot(num_rows, 2*num_cols, 2*i+1)\n",
    "  show_image_prediction(i, predictions, label_test, img_test)\n",
    "  pyplot.subplot(num_rows, 2*num_cols, 2*i+2)\n",
    "  show_value_prediction(i, predictions, label_test)"
   ]
  },
  {
   "cell_type": "markdown",
   "metadata": {},
   "source": [
    "# What Next?"
   ]
  },
  {
   "cell_type": "markdown",
   "metadata": {},
   "source": [
    "#### 1. Retraining with the same data\n",
    "#### 2. Retraining by using augmented data\n",
    "#### 3. Experiment with more complex model "
   ]
  },
  {
   "cell_type": "code",
   "execution_count": null,
   "metadata": {},
   "outputs": [],
   "source": []
  }
 ],
 "metadata": {
  "kernelspec": {
   "display_name": "Python 3",
   "language": "python",
   "name": "python3"
  },
  "language_info": {
   "codemirror_mode": {
    "name": "ipython",
    "version": 3
   },
   "file_extension": ".py",
   "mimetype": "text/x-python",
   "name": "python",
   "nbconvert_exporter": "python",
   "pygments_lexer": "ipython3",
   "version": "3.5.6"
  }
 },
 "nbformat": 4,
 "nbformat_minor": 2
}
